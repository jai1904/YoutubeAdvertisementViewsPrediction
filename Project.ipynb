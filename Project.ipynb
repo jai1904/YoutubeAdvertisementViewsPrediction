{
 "cells": [
  {
   "cell_type": "code",
   "execution_count": 52,
   "metadata": {},
   "outputs": [],
   "source": [
    "import numpy as np\n",
    "import matplotlib.pyplot as plt\n",
    "import sklearn\n",
    "import pandas as pd\n",
    "import keras\n",
    "from keras.layers import Dense"
   ]
  },
  {
   "cell_type": "code",
   "execution_count": 32,
   "metadata": {},
   "outputs": [
    {
     "data": {
      "text/html": [
       "<div>\n",
       "<style scoped>\n",
       "    .dataframe tbody tr th:only-of-type {\n",
       "        vertical-align: middle;\n",
       "    }\n",
       "\n",
       "    .dataframe tbody tr th {\n",
       "        vertical-align: top;\n",
       "    }\n",
       "\n",
       "    .dataframe thead th {\n",
       "        text-align: right;\n",
       "    }\n",
       "</style>\n",
       "<table border=\"1\" class=\"dataframe\">\n",
       "  <thead>\n",
       "    <tr style=\"text-align: right;\">\n",
       "      <th></th>\n",
       "      <th>vidid</th>\n",
       "      <th>adview</th>\n",
       "      <th>views</th>\n",
       "      <th>likes</th>\n",
       "      <th>dislikes</th>\n",
       "      <th>comment</th>\n",
       "      <th>published</th>\n",
       "      <th>duration</th>\n",
       "      <th>category</th>\n",
       "    </tr>\n",
       "  </thead>\n",
       "  <tbody>\n",
       "    <tr>\n",
       "      <th>0</th>\n",
       "      <td>VID_18655</td>\n",
       "      <td>40</td>\n",
       "      <td>1031602</td>\n",
       "      <td>8523</td>\n",
       "      <td>363</td>\n",
       "      <td>1095</td>\n",
       "      <td>2016-09-14</td>\n",
       "      <td>PT7M37S</td>\n",
       "      <td>F</td>\n",
       "    </tr>\n",
       "    <tr>\n",
       "      <th>1</th>\n",
       "      <td>VID_14135</td>\n",
       "      <td>2</td>\n",
       "      <td>1707</td>\n",
       "      <td>56</td>\n",
       "      <td>2</td>\n",
       "      <td>6</td>\n",
       "      <td>2016-10-01</td>\n",
       "      <td>PT9M30S</td>\n",
       "      <td>D</td>\n",
       "    </tr>\n",
       "    <tr>\n",
       "      <th>2</th>\n",
       "      <td>VID_2187</td>\n",
       "      <td>1</td>\n",
       "      <td>2023</td>\n",
       "      <td>25</td>\n",
       "      <td>0</td>\n",
       "      <td>2</td>\n",
       "      <td>2016-07-02</td>\n",
       "      <td>PT2M16S</td>\n",
       "      <td>C</td>\n",
       "    </tr>\n",
       "    <tr>\n",
       "      <th>3</th>\n",
       "      <td>VID_23096</td>\n",
       "      <td>6</td>\n",
       "      <td>620860</td>\n",
       "      <td>777</td>\n",
       "      <td>161</td>\n",
       "      <td>153</td>\n",
       "      <td>2016-07-27</td>\n",
       "      <td>PT4M22S</td>\n",
       "      <td>H</td>\n",
       "    </tr>\n",
       "    <tr>\n",
       "      <th>4</th>\n",
       "      <td>VID_10175</td>\n",
       "      <td>1</td>\n",
       "      <td>666</td>\n",
       "      <td>1</td>\n",
       "      <td>0</td>\n",
       "      <td>0</td>\n",
       "      <td>2016-06-29</td>\n",
       "      <td>PT31S</td>\n",
       "      <td>D</td>\n",
       "    </tr>\n",
       "  </tbody>\n",
       "</table>\n",
       "</div>"
      ],
      "text/plain": [
       "       vidid  adview    views likes dislikes comment   published duration  \\\n",
       "0  VID_18655      40  1031602  8523      363    1095  2016-09-14  PT7M37S   \n",
       "1  VID_14135       2     1707    56        2       6  2016-10-01  PT9M30S   \n",
       "2   VID_2187       1     2023    25        0       2  2016-07-02  PT2M16S   \n",
       "3  VID_23096       6   620860   777      161     153  2016-07-27  PT4M22S   \n",
       "4  VID_10175       1      666     1        0       0  2016-06-29    PT31S   \n",
       "\n",
       "  category  \n",
       "0        F  \n",
       "1        D  \n",
       "2        C  \n",
       "3        H  \n",
       "4        D  "
      ]
     },
     "execution_count": 32,
     "metadata": {},
     "output_type": "execute_result"
    }
   ],
   "source": [
    "path=r\"D:\\Project.csv\"\n",
    "dst=pd.read_csv(path)\n",
    "dst.head()"
   ]
  },
  {
   "cell_type": "code",
   "execution_count": 33,
   "metadata": {
    "scrolled": false
   },
   "outputs": [
    {
     "name": "stdout",
     "output_type": "stream",
     "text": [
      "vidid        object\n",
      "adview        int64\n",
      "views        object\n",
      "likes        object\n",
      "dislikes     object\n",
      "comment      object\n",
      "published    object\n",
      "duration     object\n",
      "category     object\n",
      "dtype: object\n",
      "<class 'pandas.core.frame.DataFrame'>\n",
      "RangeIndex: 14999 entries, 0 to 14998\n",
      "Data columns (total 9 columns):\n",
      " #   Column     Non-Null Count  Dtype \n",
      "---  ------     --------------  ----- \n",
      " 0   vidid      14999 non-null  object\n",
      " 1   adview     14999 non-null  int64 \n",
      " 2   views      14999 non-null  object\n",
      " 3   likes      14999 non-null  object\n",
      " 4   dislikes   14999 non-null  object\n",
      " 5   comment    14999 non-null  object\n",
      " 6   published  14999 non-null  object\n",
      " 7   duration   14999 non-null  object\n",
      " 8   category   14999 non-null  object\n",
      "dtypes: int64(1), object(8)\n",
      "memory usage: 1.0+ MB\n"
     ]
    }
   ],
   "source": [
    "#print(x.shape,\"\\t\",y.shape)\n",
    "dst1=pd.DataFrame(dst)\n",
    "print(dst1.dtypes)\n",
    "dst1.info()"
   ]
  },
  {
   "cell_type": "code",
   "execution_count": 34,
   "metadata": {
    "scrolled": true
   },
   "outputs": [
    {
     "name": "stderr",
     "output_type": "stream",
     "text": [
      "<ipython-input-34-249d6a1b9e86>:4: UserWarning: Boolean Series key will be reindexed to match DataFrame index.\n",
      "  dst1=dst1[dst.likes!='F']\n",
      "<ipython-input-34-249d6a1b9e86>:5: UserWarning: Boolean Series key will be reindexed to match DataFrame index.\n",
      "  dst1=dst1[dst.dislikes!='F']\n",
      "<ipython-input-34-249d6a1b9e86>:6: UserWarning: Boolean Series key will be reindexed to match DataFrame index.\n",
      "  dst1=dst1[dst.comment!='F']\n"
     ]
    }
   ],
   "source": [
    "category={'A':1,'B':2,'C':3,'D':4,'E':5,'F':6,'G':7,'H':8}\n",
    "dst1['category']=dst1['category'].map(category)\n",
    "dst1=dst1[dst.views!='F']\n",
    "dst1=dst1[dst.likes!='F']\n",
    "dst1=dst1[dst.dislikes!='F']\n",
    "dst1=dst1[dst.comment!='F']"
   ]
  },
  {
   "cell_type": "code",
   "execution_count": 35,
   "metadata": {
    "scrolled": true
   },
   "outputs": [],
   "source": [
    "dst1[\"views\"]=pd.to_numeric(dst1[\"views\"])\n",
    "dst1[\"likes\"]=pd.to_numeric(dst1[\"likes\"])\n",
    "dst1[\"dislikes\"]=pd.to_numeric(dst1[\"dislikes\"])\n",
    "dst1[\"comment\"]=pd.to_numeric(dst1[\"comment\"])\n",
    "dst1[\"adview\"]=pd.to_numeric(dst1[\"adview\"])"
   ]
  },
  {
   "cell_type": "code",
   "execution_count": 36,
   "metadata": {
    "scrolled": true
   },
   "outputs": [],
   "source": [
    "from sklearn.preprocessing import LabelEncoder\n",
    "dst1['duration']=LabelEncoder().fit_transform(dst1['duration'])\n",
    "dst1['vidid']=LabelEncoder().fit_transform(dst1['vidid'])\n",
    "dst1['published']=LabelEncoder().fit_transform(dst1['published'])"
   ]
  },
  {
   "cell_type": "code",
   "execution_count": 37,
   "metadata": {
    "scrolled": true
   },
   "outputs": [
    {
     "data": {
      "image/png": "[encoded data removed]",
      "text/plain": [
       "<Figure size 432x288 with 1 Axes>"
      ]
     },
     "metadata": {
      "needs_background": "light"
     },
     "output_type": "display_data"
    },
    {
     "data": {
      "image/png": "[encoded data removed]",
      "text/plain": [
       "<Figure size 432x288 with 1 Axes>"
      ]
     },
     "metadata": {
      "needs_background": "light"
     },
     "output_type": "display_data"
    },
    {
     "data": {
      "image/png": "[encoded data removed]",
      "text/plain": [
       "<Figure size 432x288 with 1 Axes>"
      ]
     },
     "metadata": {
      "needs_background": "light"
     },
     "output_type": "display_data"
    },
    {
     "data": {
      "image/png": "[encoded data removed]",
      "text/plain": [
       "<Figure size 432x288 with 1 Axes>"
      ]
     },
     "metadata": {
      "needs_background": "light"
     },
     "output_type": "display_data"
    }
   ],
   "source": [
    "    #PLOTTING THE DATA\n",
    "plt.hist(dst['category'])\n",
    "plt.title(\"Category\")\n",
    "plt.show()\n",
    "\n",
    "plt.hist(dst['published'])\n",
    "plt.title(\"Published\")\n",
    "plt.show()\n",
    "plt.hist(dst['adview'])\n",
    "plt.title(\"adview\")\n",
    "plt.show()\n",
    "plt.plot(dst['published'],color='red')\n",
    "dst1=dst1[dst1[\"adview\"]<2000000]"
   ]
  },
  {
   "cell_type": "code",
   "execution_count": 38,
   "metadata": {},
   "outputs": [
    {
     "data": {
      "image/png": "[encoded data removed]",
      "text/plain": [
       "<Figure size 720x720 with 2 Axes>"
      ]
     },
     "metadata": {
      "needs_background": "light"
     },
     "output_type": "display_data"
    }
   ],
   "source": [
    "import seaborn as sbn\n",
    "a,ax=plt.subplots(figsize=(10,10))\n",
    "corr = dst1.corr()\n",
    "sbn.heatmap(corr, mask=np.zeros_like(corr, dtype=np.bool), cmap=sbn.diverging_palette(220, 10, as_cmap=True),\n",
    "square=True, ax=ax,annot=True)\n",
    "plt.show()"
   ]
  },
  {
   "cell_type": "markdown",
   "metadata": {},
   "source": [
    "** CONVERTING DURATION TO SECONDS."
   ]
  },
  {
   "cell_type": "code",
   "execution_count": 39,
   "metadata": {
    "scrolled": true
   },
   "outputs": [
    {
     "data": {
      "text/html": [
       "<div>\n",
       "<style scoped>\n",
       "    .dataframe tbody tr th:only-of-type {\n",
       "        vertical-align: middle;\n",
       "    }\n",
       "\n",
       "    .dataframe tbody tr th {\n",
       "        vertical-align: top;\n",
       "    }\n",
       "\n",
       "    .dataframe thead th {\n",
       "        text-align: right;\n",
       "    }\n",
       "</style>\n",
       "<table border=\"1\" class=\"dataframe\">\n",
       "  <thead>\n",
       "    <tr style=\"text-align: right;\">\n",
       "      <th></th>\n",
       "      <th>vidid</th>\n",
       "      <th>adview</th>\n",
       "      <th>views</th>\n",
       "      <th>likes</th>\n",
       "      <th>dislikes</th>\n",
       "      <th>comment</th>\n",
       "      <th>published</th>\n",
       "      <th>duration</th>\n",
       "      <th>category</th>\n",
       "    </tr>\n",
       "  </thead>\n",
       "  <tbody>\n",
       "    <tr>\n",
       "      <th>0</th>\n",
       "      <td>VID_18655</td>\n",
       "      <td>40</td>\n",
       "      <td>1031602</td>\n",
       "      <td>8523</td>\n",
       "      <td>363</td>\n",
       "      <td>1095</td>\n",
       "      <td>2016-09-14</td>\n",
       "      <td>457</td>\n",
       "      <td>6</td>\n",
       "    </tr>\n",
       "    <tr>\n",
       "      <th>1</th>\n",
       "      <td>VID_14135</td>\n",
       "      <td>2</td>\n",
       "      <td>1707</td>\n",
       "      <td>56</td>\n",
       "      <td>2</td>\n",
       "      <td>6</td>\n",
       "      <td>2016-10-01</td>\n",
       "      <td>570</td>\n",
       "      <td>4</td>\n",
       "    </tr>\n",
       "    <tr>\n",
       "      <th>2</th>\n",
       "      <td>VID_2187</td>\n",
       "      <td>1</td>\n",
       "      <td>2023</td>\n",
       "      <td>25</td>\n",
       "      <td>0</td>\n",
       "      <td>2</td>\n",
       "      <td>2016-07-02</td>\n",
       "      <td>136</td>\n",
       "      <td>3</td>\n",
       "    </tr>\n",
       "    <tr>\n",
       "      <th>3</th>\n",
       "      <td>VID_23096</td>\n",
       "      <td>6</td>\n",
       "      <td>620860</td>\n",
       "      <td>777</td>\n",
       "      <td>161</td>\n",
       "      <td>153</td>\n",
       "      <td>2016-07-27</td>\n",
       "      <td>262</td>\n",
       "      <td>8</td>\n",
       "    </tr>\n",
       "    <tr>\n",
       "      <th>4</th>\n",
       "      <td>VID_10175</td>\n",
       "      <td>1</td>\n",
       "      <td>666</td>\n",
       "      <td>1</td>\n",
       "      <td>0</td>\n",
       "      <td>0</td>\n",
       "      <td>2016-06-29</td>\n",
       "      <td>31</td>\n",
       "      <td>4</td>\n",
       "    </tr>\n",
       "  </tbody>\n",
       "</table>\n",
       "</div>"
      ],
      "text/plain": [
       "       vidid  adview    views likes dislikes comment   published  duration  \\\n",
       "0  VID_18655      40  1031602  8523      363    1095  2016-09-14       457   \n",
       "1  VID_14135       2     1707    56        2       6  2016-10-01       570   \n",
       "2   VID_2187       1     2023    25        0       2  2016-07-02       136   \n",
       "3  VID_23096       6   620860   777      161     153  2016-07-27       262   \n",
       "4  VID_10175       1      666     1        0       0  2016-06-29        31   \n",
       "\n",
       "   category  \n",
       "0         6  \n",
       "1         4  \n",
       "2         3  \n",
       "3         8  \n",
       "4         4  "
      ]
     },
     "execution_count": 39,
     "metadata": {},
     "output_type": "execute_result"
    }
   ],
   "source": [
    "import datetime \n",
    "import time\n",
    "def checki(x):\n",
    "    y = x[2:]\n",
    "    h = ''\n",
    "    m = ''\n",
    "    s = ''\n",
    "    mm = ''\n",
    "    P = ['H','M','S']\n",
    "    for i in y:\n",
    "        if i not in P:\n",
    "            mm+=i\n",
    "        else:\n",
    "            if i==\"H\":\n",
    "                h=mm\n",
    "                mm=''\n",
    "            elif i==\"M\":\n",
    "                m=mm\n",
    "                mm=''\n",
    "            else:\n",
    "                s=mm\n",
    "                mm=''\n",
    "    if h=='':\n",
    "        h='00'\n",
    "    if s=='':\n",
    "        s='00'\n",
    "    if m=='':\n",
    "        m='00'\n",
    "    bp=h+':'+m+':'+s\n",
    "    return bp\n",
    "train=pd.read_csv(path)\n",
    "mp = train[\"duration\"]\n",
    "time = mp.apply(checki)\n",
    "def func_sec(time_string):\n",
    "    h, m, s = time_string.split(':')\n",
    "    return int(h) * 3600 + int(m) * 60 + int(s)\n",
    "time1=time.apply(func_sec)\n",
    "dst[\"duration\"]=time1\n",
    "dst.head()"
   ]
  },
  {
   "cell_type": "code",
   "execution_count": 40,
   "metadata": {
    "scrolled": true
   },
   "outputs": [
    {
     "data": {
      "text/html": [
       "<div>\n",
       "<style scoped>\n",
       "    .dataframe tbody tr th:only-of-type {\n",
       "        vertical-align: middle;\n",
       "    }\n",
       "\n",
       "    .dataframe tbody tr th {\n",
       "        vertical-align: top;\n",
       "    }\n",
       "\n",
       "    .dataframe thead th {\n",
       "        text-align: right;\n",
       "    }\n",
       "</style>\n",
       "<table border=\"1\" class=\"dataframe\">\n",
       "  <thead>\n",
       "    <tr style=\"text-align: right;\">\n",
       "      <th></th>\n",
       "      <th>views</th>\n",
       "      <th>likes</th>\n",
       "      <th>dislikes</th>\n",
       "      <th>comment</th>\n",
       "      <th>published</th>\n",
       "      <th>duration</th>\n",
       "      <th>category</th>\n",
       "    </tr>\n",
       "  </thead>\n",
       "  <tbody>\n",
       "    <tr>\n",
       "      <th>0</th>\n",
       "      <td>1031602</td>\n",
       "      <td>8523</td>\n",
       "      <td>363</td>\n",
       "      <td>1095</td>\n",
       "      <td>2168</td>\n",
       "      <td>2925</td>\n",
       "      <td>6</td>\n",
       "    </tr>\n",
       "    <tr>\n",
       "      <th>1</th>\n",
       "      <td>1707</td>\n",
       "      <td>56</td>\n",
       "      <td>2</td>\n",
       "      <td>6</td>\n",
       "      <td>2185</td>\n",
       "      <td>3040</td>\n",
       "      <td>4</td>\n",
       "    </tr>\n",
       "    <tr>\n",
       "      <th>2</th>\n",
       "      <td>2023</td>\n",
       "      <td>25</td>\n",
       "      <td>0</td>\n",
       "      <td>2</td>\n",
       "      <td>2094</td>\n",
       "      <td>1863</td>\n",
       "      <td>3</td>\n",
       "    </tr>\n",
       "    <tr>\n",
       "      <th>3</th>\n",
       "      <td>620860</td>\n",
       "      <td>777</td>\n",
       "      <td>161</td>\n",
       "      <td>153</td>\n",
       "      <td>2119</td>\n",
       "      <td>2546</td>\n",
       "      <td>8</td>\n",
       "    </tr>\n",
       "    <tr>\n",
       "      <th>4</th>\n",
       "      <td>666</td>\n",
       "      <td>1</td>\n",
       "      <td>0</td>\n",
       "      <td>0</td>\n",
       "      <td>2091</td>\n",
       "      <td>1963</td>\n",
       "      <td>4</td>\n",
       "    </tr>\n",
       "  </tbody>\n",
       "</table>\n",
       "</div>"
      ],
      "text/plain": [
       "     views  likes  dislikes  comment  published  duration  category\n",
       "0  1031602   8523       363     1095       2168      2925         6\n",
       "1     1707     56         2        6       2185      3040         4\n",
       "2     2023     25         0        2       2094      1863         3\n",
       "3   620860    777       161      153       2119      2546         8\n",
       "4      666      1         0        0       2091      1963         4"
      ]
     },
     "execution_count": 40,
     "metadata": {},
     "output_type": "execute_result"
    }
   ],
   "source": [
    "y_train=pd.DataFrame(data = dst1.iloc[:, 1].values, columns = ['target'])\n",
    "dst1=dst1.drop([\"vidid\"],axis=1)\n",
    "dst1=dst1.drop([\"adview\"],axis=1)\n",
    "dst1.head()"
   ]
  },
  {
   "cell_type": "code",
   "execution_count": 41,
   "metadata": {
    "scrolled": false
   },
   "outputs": [
    {
     "name": "stdout",
     "output_type": "stream",
     "text": [
      "(11708, 7)\n"
     ]
    }
   ],
   "source": [
    "from sklearn.model_selection import train_test_split\n",
    "x_train,x_test,y_train,y_test=train_test_split(dst1,y_train,test_size=0.2,random_state=42)\n",
    "print(x_train.shape)"
   ]
  },
  {
   "cell_type": "code",
   "execution_count": 43,
   "metadata": {},
   "outputs": [
    {
     "data": {
      "text/plain": [
       "0.25618694991317975"
      ]
     },
     "execution_count": 43,
     "metadata": {},
     "output_type": "execute_result"
    }
   ],
   "source": [
    "from sklearn.preprocessing import MinMaxScaler\n",
    "scaler=MinMaxScaler()\n",
    "x_train=scaler.fit_transform(x_train)\n",
    "x_test=scaler.fit_transform(x_test)\n",
    "x_train.mean()"
   ]
  },
  {
   "cell_type": "code",
   "execution_count": 44,
   "metadata": {},
   "outputs": [],
   "source": [
    "from sklearn import metrics\n",
    "def print_error(x_test,y_test,model_name):\n",
    "    prediction=model_name.predict(x_test)\n",
    "    print(\"Mean absolute error is \",metrics.mean_absolute_error(y_test,prediction))\n",
    "    print(\"Mean squared error is \",metrics.mean_squared_error(y_test,prediction))\n",
    "    print(\"RMS error is \",np.sqrt(metrics.mean_squared_error(y_test,prediction)))"
   ]
  },
  {
   "cell_type": "code",
   "execution_count": 46,
   "metadata": {},
   "outputs": [
    {
     "name": "stdout",
     "output_type": "stream",
     "text": [
      "Mean absolute error is  3718.9740619231143\n",
      "Mean squared error is  835886630.8152658\n",
      "RMS error is  28911.70404551184\n"
     ]
    },
    {
     "name": "stderr",
     "output_type": "stream",
     "text": [
      "c:\\users\\jaijui\\appdata\\local\\programs\\python\\python38\\lib\\site-packages\\sklearn\\utils\\validation.py:72: DataConversionWarning: A column-vector y was passed when a 1d array was expected. Please change the shape of y to (n_samples, ), for example using ravel().\n",
      "  return f(**kwargs)\n"
     ]
    },
    {
     "name": "stdout",
     "output_type": "stream",
     "text": [
      "Mean absolute error is  3718.9740619231143\n",
      "Mean squared error is  835886630.8152658\n",
      "RMS error is  28911.70404551184\n"
     ]
    }
   ],
   "source": [
    "from sklearn import linear_model\n",
    "linear_regressor=linear_model.LinearRegression()\n",
    "linear_regressor.fit(x_train,y_train)\n",
    "print_error(x_test,y_test,linear_regressor)\n",
    "from sklearn.svm import SVR\n",
    "supportvector_regressor=SVR()\n",
    "supportvector_regressor.fit(x_train,y_train)\n",
    "print_error(x_test,y_test,linear_regressor)"
   ]
  },
  {
   "cell_type": "markdown",
   "metadata": {},
   "source": [
    "**DECISION TREE AND RANDOM FOREST REGRESSOR"
   ]
  },
  {
   "cell_type": "code",
   "execution_count": 54,
   "metadata": {
    "scrolled": true
   },
   "outputs": [
    {
     "name": "stdout",
     "output_type": "stream",
     "text": [
      "Mean absolute error is  2282.135587431694\n",
      "Mean squared error is  756546548.1813525\n",
      "RMS error is  27505.391256649167\n"
     ]
    },
    {
     "name": "stderr",
     "output_type": "stream",
     "text": [
      "<ipython-input-54-76e5a5b36999>:12: DataConversionWarning: A column-vector y was passed when a 1d array was expected. Please change the shape of y to (n_samples,), for example using ravel().\n",
      "  random_forest.fit(x_train,y_train)\n"
     ]
    },
    {
     "name": "stdout",
     "output_type": "stream",
     "text": [
      "Mean absolute error is  3296.9002155051935\n",
      "Mean squared error is  485086392.6587017\n",
      "RMS error is  22024.676902481493\n"
     ]
    }
   ],
   "source": [
    "from sklearn.tree import DecisionTreeRegressor\n",
    "decision_tree=DecisionTreeRegressor()\n",
    "decision_tree.fit(x_train,y_train)\n",
    "print_error(x_test,y_test,decision_tree)\n",
    "##############\n",
    "from sklearn.ensemble import RandomForestRegressor\n",
    "n_estimators = 200\n",
    "max_depth = 25\n",
    "min_samples_split=15\n",
    "min_samples_leaf=2\n",
    "random_forest=RandomForestRegressor(n_estimators = n_estimators, max_depth = max_depth, min_samples_split=min_samples_split)\n",
    "random_forest.fit(x_train,y_train)\n",
    "print_error(x_test,y_test,random_forest)"
   ]
  },
  {
   "cell_type": "code",
   "execution_count": 57,
   "metadata": {
    "scrolled": true
   },
   "outputs": [
    {
     "name": "stdout",
     "output_type": "stream",
     "text": [
      "Epoch 1/100\n",
      "366/366 [==============================] - 1s 2ms/step - loss: 767352640.0000 - accuracy: 0.3728\n",
      "Epoch 2/100\n",
      "366/366 [==============================] - 1s 2ms/step - loss: 766896064.0000 - accuracy: 0.4285\n",
      "Epoch 3/100\n",
      "366/366 [==============================] - 1s 2ms/step - loss: 765917056.0000 - accuracy: 0.4285\n",
      "Epoch 4/100\n",
      "366/366 [==============================] - 1s 2ms/step - loss: 764909056.0000 - accuracy: 0.4285\n",
      "Epoch 5/100\n",
      "366/366 [==============================] - 1s 2ms/step - loss: 764341056.0000 - accuracy: 0.4285\n",
      "Epoch 6/100\n",
      "366/366 [==============================] - 1s 3ms/step - loss: 764089920.0000 - accuracy: 0.4285\n",
      "Epoch 7/100\n",
      "366/366 [==============================] - 1s 3ms/step - loss: 764003712.0000 - accuracy: 0.4285\n",
      "Epoch 8/100\n",
      "366/366 [==============================] - 1s 2ms/step - loss: 763967424.0000 - accuracy: 0.4285\n",
      "Epoch 9/100\n",
      "366/366 [==============================] - 1s 2ms/step - loss: 763928000.0000 - accuracy: 0.4285\n",
      "Epoch 10/100\n",
      "366/366 [==============================] - 1s 2ms/step - loss: 763908224.0000 - accuracy: 0.4285\n",
      "Epoch 11/100\n",
      "366/366 [==============================] - 1s 2ms/step - loss: 763896192.0000 - accuracy: 0.4285\n",
      "Epoch 12/100\n",
      "366/366 [==============================] - 1s 2ms/step - loss: 763873984.0000 - accuracy: 0.4285\n",
      "Epoch 13/100\n",
      "366/366 [==============================] - 1s 3ms/step - loss: 763881536.0000 - accuracy: 0.4285\n",
      "Epoch 14/100\n",
      "366/366 [==============================] - 1s 2ms/step - loss: 763835968.0000 - accuracy: 0.4285\n",
      "Epoch 15/100\n",
      "366/366 [==============================] - 1s 2ms/step - loss: 763815872.0000 - accuracy: 0.4285\n",
      "Epoch 16/100\n",
      "366/366 [==============================] - 1s 2ms/step - loss: 763800128.0000 - accuracy: 0.4285\n",
      "Epoch 17/100\n",
      "366/366 [==============================] - 1s 2ms/step - loss: 763776896.0000 - accuracy: 0.4285\n",
      "Epoch 18/100\n",
      "366/366 [==============================] - 1s 2ms/step - loss: 763769024.0000 - accuracy: 0.4285\n",
      "Epoch 19/100\n",
      "366/366 [==============================] - 1s 3ms/step - loss: 763735616.0000 - accuracy: 0.4285\n",
      "Epoch 20/100\n",
      "366/366 [==============================] - 1s 3ms/step - loss: 763745472.0000 - accuracy: 0.4285\n",
      "Epoch 21/100\n",
      "366/366 [==============================] - 1s 2ms/step - loss: 763694016.0000 - accuracy: 0.4285\n",
      "Epoch 22/100\n",
      "366/366 [==============================] - 1s 2ms/step - loss: 763680128.0000 - accuracy: 0.4285\n",
      "Epoch 23/100\n",
      "366/366 [==============================] - 1s 2ms/step - loss: 763658880.0000 - accuracy: 0.4285\n",
      "Epoch 24/100\n",
      "366/366 [==============================] - 1s 2ms/step - loss: 763639872.0000 - accuracy: 0.4285\n",
      "Epoch 25/100\n",
      "366/366 [==============================] - 1s 2ms/step - loss: 763614720.0000 - accuracy: 0.4285\n",
      "Epoch 26/100\n",
      "366/366 [==============================] - 1s 3ms/step - loss: 763593920.0000 - accuracy: 0.4285\n",
      "Epoch 27/100\n",
      "366/366 [==============================] - 1s 2ms/step - loss: 763570816.0000 - accuracy: 0.4285\n",
      "Epoch 28/100\n",
      "366/366 [==============================] - 1s 2ms/step - loss: 763539328.0000 - accuracy: 0.4285\n",
      "Epoch 29/100\n",
      "366/366 [==============================] - 1s 2ms/step - loss: 763525184.0000 - accuracy: 0.4285\n",
      "Epoch 30/100\n",
      "366/366 [==============================] - 1s 2ms/step - loss: 763491200.0000 - accuracy: 0.4285\n",
      "Epoch 31/100\n",
      "366/366 [==============================] - 1s 2ms/step - loss: 763472576.0000 - accuracy: 0.4285\n",
      "Epoch 32/100\n",
      "366/366 [==============================] - 1s 3ms/step - loss: 763449280.0000 - accuracy: 0.4285\n",
      "Epoch 33/100\n",
      "366/366 [==============================] - 1s 3ms/step - loss: 763419392.0000 - accuracy: 0.4285\n",
      "Epoch 34/100\n",
      "366/366 [==============================] - 1s 2ms/step - loss: 763387840.0000 - accuracy: 0.4285\n",
      "Epoch 35/100\n",
      "366/366 [==============================] - 1s 2ms/step - loss: 763373888.0000 - accuracy: 0.4285\n",
      "Epoch 36/100\n",
      "366/366 [==============================] - 1s 2ms/step - loss: 763347008.0000 - accuracy: 0.4285\n",
      "Epoch 37/100\n",
      "366/366 [==============================] - 1s 2ms/step - loss: 763334592.0000 - accuracy: 0.4285\n",
      "Epoch 38/100\n",
      "366/366 [==============================] - 1s 2ms/step - loss: 763302272.0000 - accuracy: 0.4285\n",
      "Epoch 39/100\n",
      "366/366 [==============================] - 1s 3ms/step - loss: 763272000.0000 - accuracy: 0.4285\n",
      "Epoch 40/100\n",
      "366/366 [==============================] - 1s 2ms/step - loss: 763242240.0000 - accuracy: 0.4285\n",
      "Epoch 41/100\n",
      "366/366 [==============================] - 1s 2ms/step - loss: 763220864.0000 - accuracy: 0.4285\n",
      "Epoch 42/100\n",
      "366/366 [==============================] - 1s 2ms/step - loss: 763205248.0000 - accuracy: 0.4285\n",
      "Epoch 43/100\n",
      "366/366 [==============================] - 1s 2ms/step - loss: 763149696.0000 - accuracy: 0.4285\n",
      "Epoch 44/100\n",
      "366/366 [==============================] - 1s 2ms/step - loss: 763134528.0000 - accuracy: 0.4285\n",
      "Epoch 45/100\n",
      "366/366 [==============================] - 1s 3ms/step - loss: 763099904.0000 - accuracy: 0.4285\n",
      "Epoch 46/100\n",
      "366/366 [==============================] - 1s 3ms/step - loss: 763083456.0000 - accuracy: 0.4285\n",
      "Epoch 47/100\n",
      "366/366 [==============================] - 1s 2ms/step - loss: 763036800.0000 - accuracy: 0.4285\n",
      "Epoch 48/100\n",
      "366/366 [==============================] - 1s 2ms/step - loss: 763027328.0000 - accuracy: 0.4285\n",
      "Epoch 49/100\n",
      "366/366 [==============================] - 1s 2ms/step - loss: 762987904.0000 - accuracy: 0.4285\n",
      "Epoch 50/100\n",
      "366/366 [==============================] - 1s 2ms/step - loss: 762952512.0000 - accuracy: 0.4285\n",
      "Epoch 51/100\n",
      "366/366 [==============================] - 1s 3ms/step - loss: 762917696.0000 - accuracy: 0.4285\n",
      "Epoch 52/100\n",
      "366/366 [==============================] - 1s 3ms/step - loss: 762889920.0000 - accuracy: 0.4285\n",
      "Epoch 53/100\n",
      "366/366 [==============================] - 1s 2ms/step - loss: 762874432.0000 - accuracy: 0.4285\n",
      "Epoch 54/100\n",
      "366/366 [==============================] - 1s 2ms/step - loss: 762829888.0000 - accuracy: 0.4284\n",
      "Epoch 55/100\n",
      "366/366 [==============================] - 1s 2ms/step - loss: 762811968.0000 - accuracy: 0.4285\n",
      "Epoch 56/100\n",
      "366/366 [==============================] - 1s 2ms/step - loss: 762764736.0000 - accuracy: 0.4283\n",
      "Epoch 57/100\n",
      "366/366 [==============================] - 1s 2ms/step - loss: 762744448.0000 - accuracy: 0.4282\n",
      "Epoch 58/100\n",
      "366/366 [==============================] - 1s 3ms/step - loss: 762700032.0000 - accuracy: 0.4282\n",
      "Epoch 59/100\n",
      "366/366 [==============================] - 1s 2ms/step - loss: 762674240.0000 - accuracy: 0.4272\n",
      "Epoch 60/100\n",
      "366/366 [==============================] - 1s 3ms/step - loss: 762643328.0000 - accuracy: 0.4274\n",
      "Epoch 61/100\n",
      "366/366 [==============================] - 1s 2ms/step - loss: 762593344.0000 - accuracy: 0.4257\n",
      "Epoch 62/100\n",
      "366/366 [==============================] - 1s 2ms/step - loss: 762579776.0000 - accuracy: 0.4257\n",
      "Epoch 63/100\n",
      "366/366 [==============================] - 1s 2ms/step - loss: 762523072.0000 - accuracy: 0.4254\n",
      "Epoch 64/100\n",
      "366/366 [==============================] - 1s 3ms/step - loss: 762510080.0000 - accuracy: 0.4242\n",
      "Epoch 65/100\n",
      "366/366 [==============================] - 1s 3ms/step - loss: 762461248.0000 - accuracy: 0.4224\n",
      "Epoch 66/100\n",
      "366/366 [==============================] - 1s 2ms/step - loss: 762436224.0000 - accuracy: 0.4194\n",
      "Epoch 67/100\n",
      "366/366 [==============================] - 1s 2ms/step - loss: 762398144.0000 - accuracy: 0.4180\n",
      "Epoch 68/100\n",
      "366/366 [==============================] - 1s 2ms/step - loss: 762370624.0000 - accuracy: 0.4183\n",
      "Epoch 69/100\n",
      "366/366 [==============================] - 1s 2ms/step - loss: 762340800.0000 - accuracy: 0.4171\n",
      "Epoch 70/100\n",
      "366/366 [==============================] - 1s 2ms/step - loss: 762297216.0000 - accuracy: 0.4168\n",
      "Epoch 71/100\n",
      "366/366 [==============================] - 1s 3ms/step - loss: 762280064.0000 - accuracy: 0.4134\n",
      "Epoch 72/100\n",
      "366/366 [==============================] - 1s 2ms/step - loss: 762232448.0000 - accuracy: 0.4139\n",
      "Epoch 73/100\n",
      "366/366 [==============================] - 1s 2ms/step - loss: 762246848.0000 - accuracy: 0.4111\n",
      "Epoch 74/100\n",
      "366/366 [==============================] - 1s 2ms/step - loss: 762164992.0000 - accuracy: 0.4110\n",
      "Epoch 75/100\n"
     ]
    },
    {
     "name": "stdout",
     "output_type": "stream",
     "text": [
      "366/366 [==============================] - 1s 2ms/step - loss: 762143168.0000 - accuracy: 0.4094\n",
      "Epoch 76/100\n",
      "366/366 [==============================] - 1s 2ms/step - loss: 762095936.0000 - accuracy: 0.4054\n",
      "Epoch 77/100\n",
      "366/366 [==============================] - 1s 3ms/step - loss: 762068352.0000 - accuracy: 0.4064\n",
      "Epoch 78/100\n",
      "366/366 [==============================] - 1s 2ms/step - loss: 762047296.0000 - accuracy: 0.4045\n",
      "Epoch 79/100\n",
      "366/366 [==============================] - 1s 2ms/step - loss: 761998272.0000 - accuracy: 0.4030\n",
      "Epoch 80/100\n",
      "366/366 [==============================] - 1s 2ms/step - loss: 761987520.0000 - accuracy: 0.4019\n",
      "Epoch 81/100\n",
      "366/366 [==============================] - 1s 2ms/step - loss: 761937600.0000 - accuracy: 0.4013\n",
      "Epoch 82/100\n",
      "366/366 [==============================] - 1s 2ms/step - loss: 761914752.0000 - accuracy: 0.3976\n",
      "Epoch 83/100\n",
      "366/366 [==============================] - 1s 3ms/step - loss: 761948736.0000 - accuracy: 0.3962\n",
      "Epoch 84/100\n",
      "366/366 [==============================] - 1s 3ms/step - loss: 761836416.0000 - accuracy: 0.3993\n",
      "Epoch 85/100\n",
      "366/366 [==============================] - 1s 2ms/step - loss: 761819200.0000 - accuracy: 0.3967\n",
      "Epoch 86/100\n",
      "366/366 [==============================] - 1s 2ms/step - loss: 761798464.0000 - accuracy: 0.3950\n",
      "Epoch 87/100\n",
      "366/366 [==============================] - 1s 2ms/step - loss: 761772096.0000 - accuracy: 0.3926\n",
      "Epoch 88/100\n",
      "366/366 [==============================] - 1s 2ms/step - loss: 761730624.0000 - accuracy: 0.3913\n",
      "Epoch 89/100\n",
      "366/366 [==============================] - 1s 2ms/step - loss: 761701184.0000 - accuracy: 0.3931\n",
      "Epoch 90/100\n",
      "366/366 [==============================] - 1s 3ms/step - loss: 761669120.0000 - accuracy: 0.3905\n",
      "Epoch 91/100\n",
      "366/366 [==============================] - 1s 2ms/step - loss: 761650944.0000 - accuracy: 0.3900\n",
      "Epoch 92/100\n",
      "366/366 [==============================] - 1s 2ms/step - loss: 761597120.0000 - accuracy: 0.3858\n",
      "Epoch 93/100\n",
      "366/366 [==============================] - 1s 2ms/step - loss: 761576512.0000 - accuracy: 0.3876\n",
      "Epoch 94/100\n",
      "366/366 [==============================] - 1s 2ms/step - loss: 761565120.0000 - accuracy: 0.3844\n",
      "Epoch 95/100\n",
      "366/366 [==============================] - 1s 2ms/step - loss: 761536832.0000 - accuracy: 0.3854\n",
      "Epoch 96/100\n",
      "366/366 [==============================] - 1s 3ms/step - loss: 761525440.0000 - accuracy: 0.3828\n",
      "Epoch 97/100\n",
      "366/366 [==============================] - 1s 2ms/step - loss: 761483648.0000 - accuracy: 0.3826\n",
      "Epoch 98/100\n",
      "366/366 [==============================] - 1s 2ms/step - loss: 761461952.0000 - accuracy: 0.3823\n",
      "Epoch 99/100\n",
      "366/366 [==============================] - 1s 2ms/step - loss: 761422464.0000 - accuracy: 0.3770\n",
      "Epoch 100/100\n",
      "366/366 [==============================] - 1s 2ms/step - loss: 761379584.0000 - accuracy: 0.3786\n",
      "Model: \"sequential_3\"\n",
      "_________________________________________________________________\n",
      "Layer (type)                 Output Shape              Param #   \n",
      "=================================================================\n",
      "dense_9 (Dense)              (None, 64)                512       \n",
      "_________________________________________________________________\n",
      "dense_10 (Dense)             (None, 64)                4160      \n",
      "_________________________________________________________________\n",
      "dense_11 (Dense)             (None, 1)                 65        \n",
      "=================================================================\n",
      "Total params: 4,737\n",
      "Trainable params: 4,737\n",
      "Non-trainable params: 0\n",
      "_________________________________________________________________\n",
      "Mean absolute error is  3349.799841260161\n",
      "Mean squared error is  828327876.7119726\n",
      "RMS error is  28780.685827686117\n"
     ]
    }
   ],
   "source": [
    "model=keras.models.Sequential([\n",
    "                Dense(64,activation='relu',input_shape=x_train.shape[1:]),\n",
    "                Dense(64,activation=\"relu\"),\n",
    "                Dense(1)])\n",
    "model.compile(optimizer=\"adam\",loss=\"mean_squared_error\",metrics=[\"accuracy\"])\n",
    "history=model.fit(x_train,y_train,epochs=100)\n",
    "model.summary()\n",
    "print_error(x_test,y_test,model)"
   ]
  },
  {
   "cell_type": "markdown",
   "metadata": {},
   "source": [
    "**Hence we conclude that random forest definitely performs better that Artificial Neural Network if Mean Squared error is taken as the metric measure for conclusion**"
   ]
  },
  {
   "cell_type": "code",
   "execution_count": 58,
   "metadata": {},
   "outputs": [
    {
     "data": {
      "text/plain": [
       "['decisiontree_youtubeadview.pkl']"
      ]
     },
     "execution_count": 58,
     "metadata": {},
     "output_type": "execute_result"
    }
   ],
   "source": [
    "import joblib\n",
    "joblib.dump(decision_tree, \"decisiontree_youtubeadview.pkl\")"
   ]
  },
  {
   "cell_type": "code",
   "execution_count": 81,
   "metadata": {},
   "outputs": [
    {
     "name": "stdout",
     "output_type": "stream",
     "text": [
      "Mean Squared error : 828327876.7119726\n"
     ]
    }
   ],
   "source": [
    "y_pred=model.predict(x_test)\n",
    "print(\"Mean Squared error :\",metrics.mean_squared_error(y_test, y_pred))"
   ]
  },
  {
   "cell_type": "code",
   "execution_count": 76,
   "metadata": {
    "scrolled": true
   },
   "outputs": [
    {
     "name": "stdout",
     "output_type": "stream",
     "text": [
      "[ 18.09444493   9.34434839  12.0127884  ...  65.33277085 650.02611882\n",
      "  14.44067544]\n"
     ]
    }
   ],
   "source": [
    "y_prediction=random_forest.predict(x_test)\n",
    "y_prediction.reshape(2928,1)\n",
    "print(y_prediction)"
   ]
  },
  {
   "cell_type": "code",
   "execution_count": 72,
   "metadata": {},
   "outputs": [
    {
     "name": "stdout",
     "output_type": "stream",
     "text": [
      "       target\n",
      "4791        5\n",
      "4800        2\n",
      "3717        5\n",
      "8876        1\n",
      "8288        2\n",
      "...       ...\n",
      "3694        1\n",
      "4872        9\n",
      "6791        1\n",
      "750         2\n",
      "10144      11\n",
      "\n",
      "[2928 rows x 1 columns]\n"
     ]
    }
   ],
   "source": [
    "print(y_test)"
   ]
  },
  {
   "cell_type": "code",
   "execution_count": 79,
   "metadata": {
    "scrolled": false
   },
   "outputs": [
    {
     "name": "stdout",
     "output_type": "stream",
     "text": [
      "Mean Squared error : 485086392.6587017\n"
     ]
    }
   ],
   "source": [
    "print(\"Mean Squared error :\",metrics.mean_squared_error(y_test, y_prediction))"
   ]
  },
  {
   "cell_type": "code",
   "execution_count": 104,
   "metadata": {
    "scrolled": false
   },
   "outputs": [
    {
     "data": {
      "text/html": [
       "<div>\n",
       "<style scoped>\n",
       "    .dataframe tbody tr th:only-of-type {\n",
       "        vertical-align: middle;\n",
       "    }\n",
       "\n",
       "    .dataframe tbody tr th {\n",
       "        vertical-align: top;\n",
       "    }\n",
       "\n",
       "    .dataframe thead th {\n",
       "        text-align: right;\n",
       "    }\n",
       "</style>\n",
       "<table border=\"1\" class=\"dataframe\">\n",
       "  <thead>\n",
       "    <tr style=\"text-align: right;\">\n",
       "      <th></th>\n",
       "      <th>vidid</th>\n",
       "      <th>views</th>\n",
       "      <th>likes</th>\n",
       "      <th>dislikes</th>\n",
       "      <th>comment</th>\n",
       "      <th>published</th>\n",
       "      <th>duration</th>\n",
       "      <th>category</th>\n",
       "    </tr>\n",
       "  </thead>\n",
       "  <tbody>\n",
       "    <tr>\n",
       "      <th>0</th>\n",
       "      <td>VID_1054</td>\n",
       "      <td>440238</td>\n",
       "      <td>6153</td>\n",
       "      <td>218</td>\n",
       "      <td>1377</td>\n",
       "      <td>2017-02-18</td>\n",
       "      <td>PT7M29S</td>\n",
       "      <td>B</td>\n",
       "    </tr>\n",
       "    <tr>\n",
       "      <th>1</th>\n",
       "      <td>VID_18629</td>\n",
       "      <td>1040132</td>\n",
       "      <td>8171</td>\n",
       "      <td>340</td>\n",
       "      <td>1047</td>\n",
       "      <td>2016-06-28</td>\n",
       "      <td>PT6M29S</td>\n",
       "      <td>F</td>\n",
       "    </tr>\n",
       "    <tr>\n",
       "      <th>2</th>\n",
       "      <td>VID_13967</td>\n",
       "      <td>28534</td>\n",
       "      <td>31</td>\n",
       "      <td>11</td>\n",
       "      <td>1</td>\n",
       "      <td>2014-03-10</td>\n",
       "      <td>PT37M54S</td>\n",
       "      <td>D</td>\n",
       "    </tr>\n",
       "    <tr>\n",
       "      <th>3</th>\n",
       "      <td>VID_19442</td>\n",
       "      <td>1316715</td>\n",
       "      <td>2284</td>\n",
       "      <td>250</td>\n",
       "      <td>274</td>\n",
       "      <td>2010-06-05</td>\n",
       "      <td>PT9M55S</td>\n",
       "      <td>G</td>\n",
       "    </tr>\n",
       "    <tr>\n",
       "      <th>4</th>\n",
       "      <td>VID_770</td>\n",
       "      <td>1893173</td>\n",
       "      <td>2519</td>\n",
       "      <td>225</td>\n",
       "      <td>116</td>\n",
       "      <td>2016-09-03</td>\n",
       "      <td>PT3M8S</td>\n",
       "      <td>B</td>\n",
       "    </tr>\n",
       "  </tbody>\n",
       "</table>\n",
       "</div>"
      ],
      "text/plain": [
       "       vidid    views likes dislikes comment   published  duration category\n",
       "0   VID_1054   440238  6153      218    1377  2017-02-18   PT7M29S        B\n",
       "1  VID_18629  1040132  8171      340    1047  2016-06-28   PT6M29S        F\n",
       "2  VID_13967    28534    31       11       1  2014-03-10  PT37M54S        D\n",
       "3  VID_19442  1316715  2284      250     274  2010-06-05   PT9M55S        G\n",
       "4    VID_770  1893173  2519      225     116  2016-09-03    PT3M8S        B"
      ]
     },
     "execution_count": 104,
     "metadata": {},
     "output_type": "execute_result"
    }
   ],
   "source": [
    "path=r\"D:\\test.csv\"\n",
    "dsttest=pd.read_csv(path)\n",
    "dsttest.head()"
   ]
  },
  {
   "cell_type": "code",
   "execution_count": 105,
   "metadata": {},
   "outputs": [
    {
     "data": {
      "text/html": [
       "<div>\n",
       "<style scoped>\n",
       "    .dataframe tbody tr th:only-of-type {\n",
       "        vertical-align: middle;\n",
       "    }\n",
       "\n",
       "    .dataframe tbody tr th {\n",
       "        vertical-align: top;\n",
       "    }\n",
       "\n",
       "    .dataframe thead th {\n",
       "        text-align: right;\n",
       "    }\n",
       "</style>\n",
       "<table border=\"1\" class=\"dataframe\">\n",
       "  <thead>\n",
       "    <tr style=\"text-align: right;\">\n",
       "      <th></th>\n",
       "      <th>vidid</th>\n",
       "      <th>views</th>\n",
       "      <th>likes</th>\n",
       "      <th>dislikes</th>\n",
       "      <th>comment</th>\n",
       "      <th>published</th>\n",
       "      <th>duration</th>\n",
       "      <th>category</th>\n",
       "    </tr>\n",
       "  </thead>\n",
       "  <tbody>\n",
       "    <tr>\n",
       "      <th>0</th>\n",
       "      <td>VID_1054</td>\n",
       "      <td>440238</td>\n",
       "      <td>6153</td>\n",
       "      <td>218</td>\n",
       "      <td>1377</td>\n",
       "      <td>2017-02-18</td>\n",
       "      <td>PT7M29S</td>\n",
       "      <td>B</td>\n",
       "    </tr>\n",
       "    <tr>\n",
       "      <th>1</th>\n",
       "      <td>VID_18629</td>\n",
       "      <td>1040132</td>\n",
       "      <td>8171</td>\n",
       "      <td>340</td>\n",
       "      <td>1047</td>\n",
       "      <td>2016-06-28</td>\n",
       "      <td>PT6M29S</td>\n",
       "      <td>F</td>\n",
       "    </tr>\n",
       "    <tr>\n",
       "      <th>2</th>\n",
       "      <td>VID_13967</td>\n",
       "      <td>28534</td>\n",
       "      <td>31</td>\n",
       "      <td>11</td>\n",
       "      <td>1</td>\n",
       "      <td>2014-03-10</td>\n",
       "      <td>PT37M54S</td>\n",
       "      <td>D</td>\n",
       "    </tr>\n",
       "    <tr>\n",
       "      <th>3</th>\n",
       "      <td>VID_19442</td>\n",
       "      <td>1316715</td>\n",
       "      <td>2284</td>\n",
       "      <td>250</td>\n",
       "      <td>274</td>\n",
       "      <td>2010-06-05</td>\n",
       "      <td>PT9M55S</td>\n",
       "      <td>G</td>\n",
       "    </tr>\n",
       "    <tr>\n",
       "      <th>4</th>\n",
       "      <td>VID_770</td>\n",
       "      <td>1893173</td>\n",
       "      <td>2519</td>\n",
       "      <td>225</td>\n",
       "      <td>116</td>\n",
       "      <td>2016-09-03</td>\n",
       "      <td>PT3M8S</td>\n",
       "      <td>B</td>\n",
       "    </tr>\n",
       "  </tbody>\n",
       "</table>\n",
       "</div>"
      ],
      "text/plain": [
       "       vidid    views likes dislikes comment   published  duration category\n",
       "0   VID_1054   440238  6153      218    1377  2017-02-18   PT7M29S        B\n",
       "1  VID_18629  1040132  8171      340    1047  2016-06-28   PT6M29S        F\n",
       "2  VID_13967    28534    31       11       1  2014-03-10  PT37M54S        D\n",
       "3  VID_19442  1316715  2284      250     274  2010-06-05   PT9M55S        G\n",
       "4    VID_770  1893173  2519      225     116  2016-09-03    PT3M8S        B"
      ]
     },
     "execution_count": 105,
     "metadata": {},
     "output_type": "execute_result"
    }
   ],
   "source": [
    "dsttest=dsttest[dsttest.views!='F']\n",
    "dsttest=dsttest[dsttest.likes!='F']\n",
    "dsttest=dsttest[dsttest.dislikes!='F']\n",
    "dsttest=dsttest[dsttest.comment!='F']\n",
    "dsttest.head()"
   ]
  },
  {
   "cell_type": "code",
   "execution_count": 106,
   "metadata": {},
   "outputs": [
    {
     "data": {
      "text/html": [
       "<div>\n",
       "<style scoped>\n",
       "    .dataframe tbody tr th:only-of-type {\n",
       "        vertical-align: middle;\n",
       "    }\n",
       "\n",
       "    .dataframe tbody tr th {\n",
       "        vertical-align: top;\n",
       "    }\n",
       "\n",
       "    .dataframe thead th {\n",
       "        text-align: right;\n",
       "    }\n",
       "</style>\n",
       "<table border=\"1\" class=\"dataframe\">\n",
       "  <thead>\n",
       "    <tr style=\"text-align: right;\">\n",
       "      <th></th>\n",
       "      <th>vidid</th>\n",
       "      <th>views</th>\n",
       "      <th>likes</th>\n",
       "      <th>dislikes</th>\n",
       "      <th>comment</th>\n",
       "      <th>published</th>\n",
       "      <th>duration</th>\n",
       "      <th>category</th>\n",
       "    </tr>\n",
       "  </thead>\n",
       "  <tbody>\n",
       "    <tr>\n",
       "      <th>0</th>\n",
       "      <td>VID_1054</td>\n",
       "      <td>440238</td>\n",
       "      <td>6153</td>\n",
       "      <td>218</td>\n",
       "      <td>1377</td>\n",
       "      <td>2017-02-18</td>\n",
       "      <td>PT7M29S</td>\n",
       "      <td>2</td>\n",
       "    </tr>\n",
       "    <tr>\n",
       "      <th>1</th>\n",
       "      <td>VID_18629</td>\n",
       "      <td>1040132</td>\n",
       "      <td>8171</td>\n",
       "      <td>340</td>\n",
       "      <td>1047</td>\n",
       "      <td>2016-06-28</td>\n",
       "      <td>PT6M29S</td>\n",
       "      <td>6</td>\n",
       "    </tr>\n",
       "    <tr>\n",
       "      <th>2</th>\n",
       "      <td>VID_13967</td>\n",
       "      <td>28534</td>\n",
       "      <td>31</td>\n",
       "      <td>11</td>\n",
       "      <td>1</td>\n",
       "      <td>2014-03-10</td>\n",
       "      <td>PT37M54S</td>\n",
       "      <td>4</td>\n",
       "    </tr>\n",
       "    <tr>\n",
       "      <th>3</th>\n",
       "      <td>VID_19442</td>\n",
       "      <td>1316715</td>\n",
       "      <td>2284</td>\n",
       "      <td>250</td>\n",
       "      <td>274</td>\n",
       "      <td>2010-06-05</td>\n",
       "      <td>PT9M55S</td>\n",
       "      <td>7</td>\n",
       "    </tr>\n",
       "    <tr>\n",
       "      <th>4</th>\n",
       "      <td>VID_770</td>\n",
       "      <td>1893173</td>\n",
       "      <td>2519</td>\n",
       "      <td>225</td>\n",
       "      <td>116</td>\n",
       "      <td>2016-09-03</td>\n",
       "      <td>PT3M8S</td>\n",
       "      <td>2</td>\n",
       "    </tr>\n",
       "  </tbody>\n",
       "</table>\n",
       "</div>"
      ],
      "text/plain": [
       "       vidid    views likes dislikes comment   published  duration  category\n",
       "0   VID_1054   440238  6153      218    1377  2017-02-18   PT7M29S         2\n",
       "1  VID_18629  1040132  8171      340    1047  2016-06-28   PT6M29S         6\n",
       "2  VID_13967    28534    31       11       1  2014-03-10  PT37M54S         4\n",
       "3  VID_19442  1316715  2284      250     274  2010-06-05   PT9M55S         7\n",
       "4    VID_770  1893173  2519      225     116  2016-09-03    PT3M8S         2"
      ]
     },
     "execution_count": 106,
     "metadata": {},
     "output_type": "execute_result"
    }
   ],
   "source": [
    "category={'A': 1,'B':2,'C':3,'D':4,'E':5,'F':6,'G':7,'H':8}\n",
    "dsttest[\"category\"]=dsttest[\"category\"].map(category)\n",
    "dsttest.head()"
   ]
  },
  {
   "cell_type": "code",
   "execution_count": 107,
   "metadata": {},
   "outputs": [],
   "source": [
    "dsttest[\"views\"]=pd.to_numeric(dsttest[\"views\"])\n",
    "dsttest[\"likes\"]=pd.to_numeric(dsttest[\"likes\"])\n",
    "dsttest[\"dislikes\"]=pd.to_numeric(dsttest[\"dislikes\"])\n",
    "dsttest[\"comment\"]=pd.to_numeric(dsttest[\"comment\"])\n",
    "column_vidid=dsttest['vidid']\n",
    "# Endoding features like Category, Duration, Vidid"
   ]
  },
  {
   "cell_type": "code",
   "execution_count": 108,
   "metadata": {
    "scrolled": true
   },
   "outputs": [
    {
     "data": {
      "text/html": [
       "<div>\n",
       "<style scoped>\n",
       "    .dataframe tbody tr th:only-of-type {\n",
       "        vertical-align: middle;\n",
       "    }\n",
       "\n",
       "    .dataframe tbody tr th {\n",
       "        vertical-align: top;\n",
       "    }\n",
       "\n",
       "    .dataframe thead th {\n",
       "        text-align: right;\n",
       "    }\n",
       "</style>\n",
       "<table border=\"1\" class=\"dataframe\">\n",
       "  <thead>\n",
       "    <tr style=\"text-align: right;\">\n",
       "      <th></th>\n",
       "      <th>vidid</th>\n",
       "      <th>views</th>\n",
       "      <th>likes</th>\n",
       "      <th>dislikes</th>\n",
       "      <th>comment</th>\n",
       "      <th>published</th>\n",
       "      <th>duration</th>\n",
       "      <th>category</th>\n",
       "    </tr>\n",
       "  </thead>\n",
       "  <tbody>\n",
       "    <tr>\n",
       "      <th>0</th>\n",
       "      <td>231</td>\n",
       "      <td>440238</td>\n",
       "      <td>6153</td>\n",
       "      <td>218</td>\n",
       "      <td>1377</td>\n",
       "      <td>2053</td>\n",
       "      <td>2115</td>\n",
       "      <td>2</td>\n",
       "    </tr>\n",
       "    <tr>\n",
       "      <th>1</th>\n",
       "      <td>3444</td>\n",
       "      <td>1040132</td>\n",
       "      <td>8171</td>\n",
       "      <td>340</td>\n",
       "      <td>1047</td>\n",
       "      <td>1825</td>\n",
       "      <td>2055</td>\n",
       "      <td>6</td>\n",
       "    </tr>\n",
       "    <tr>\n",
       "      <th>2</th>\n",
       "      <td>1593</td>\n",
       "      <td>28534</td>\n",
       "      <td>31</td>\n",
       "      <td>11</td>\n",
       "      <td>1</td>\n",
       "      <td>1009</td>\n",
       "      <td>1506</td>\n",
       "      <td>4</td>\n",
       "    </tr>\n",
       "    <tr>\n",
       "      <th>3</th>\n",
       "      <td>3775</td>\n",
       "      <td>1316715</td>\n",
       "      <td>2284</td>\n",
       "      <td>250</td>\n",
       "      <td>274</td>\n",
       "      <td>116</td>\n",
       "      <td>2265</td>\n",
       "      <td>7</td>\n",
       "    </tr>\n",
       "    <tr>\n",
       "      <th>4</th>\n",
       "      <td>7644</td>\n",
       "      <td>1893173</td>\n",
       "      <td>2519</td>\n",
       "      <td>225</td>\n",
       "      <td>116</td>\n",
       "      <td>1892</td>\n",
       "      <td>1625</td>\n",
       "      <td>2</td>\n",
       "    </tr>\n",
       "  </tbody>\n",
       "</table>\n",
       "</div>"
      ],
      "text/plain": [
       "   vidid    views  likes  dislikes  comment  published  duration  category\n",
       "0    231   440238   6153       218     1377       2053      2115         2\n",
       "1   3444  1040132   8171       340     1047       1825      2055         6\n",
       "2   1593    28534     31        11        1       1009      1506         4\n",
       "3   3775  1316715   2284       250      274        116      2265         7\n",
       "4   7644  1893173   2519       225      116       1892      1625         2"
      ]
     },
     "execution_count": 108,
     "metadata": {},
     "output_type": "execute_result"
    }
   ],
   "source": [
    "from sklearn.preprocessing import LabelEncoder\n",
    "dsttest['duration']=LabelEncoder().fit_transform(dsttest['duration'])\n",
    "dsttest['vidid']=LabelEncoder().fit_transform(dsttest['vidid'])\n",
    "dsttest['published']=LabelEncoder().fit_transform(dsttest['published'])\n",
    "dsttest.head()\n",
    "# Convert Time_in_sec for duration"
   ]
  },
  {
   "cell_type": "code",
   "execution_count": 114,
   "metadata": {
    "scrolled": true
   },
   "outputs": [
    {
     "data": {
      "text/html": [
       "<div>\n",
       "<style scoped>\n",
       "    .dataframe tbody tr th:only-of-type {\n",
       "        vertical-align: middle;\n",
       "    }\n",
       "\n",
       "    .dataframe tbody tr th {\n",
       "        vertical-align: top;\n",
       "    }\n",
       "\n",
       "    .dataframe thead th {\n",
       "        text-align: right;\n",
       "    }\n",
       "</style>\n",
       "<table border=\"1\" class=\"dataframe\">\n",
       "  <thead>\n",
       "    <tr style=\"text-align: right;\">\n",
       "      <th></th>\n",
       "      <th>views</th>\n",
       "      <th>likes</th>\n",
       "      <th>dislikes</th>\n",
       "      <th>comment</th>\n",
       "      <th>published</th>\n",
       "      <th>duration</th>\n",
       "      <th>category</th>\n",
       "    </tr>\n",
       "  </thead>\n",
       "  <tbody>\n",
       "    <tr>\n",
       "      <th>0</th>\n",
       "      <td>440238</td>\n",
       "      <td>6153</td>\n",
       "      <td>218</td>\n",
       "      <td>1377</td>\n",
       "      <td>2053</td>\n",
       "      <td>449</td>\n",
       "      <td>2</td>\n",
       "    </tr>\n",
       "    <tr>\n",
       "      <th>1</th>\n",
       "      <td>1040132</td>\n",
       "      <td>8171</td>\n",
       "      <td>340</td>\n",
       "      <td>1047</td>\n",
       "      <td>1825</td>\n",
       "      <td>389</td>\n",
       "      <td>6</td>\n",
       "    </tr>\n",
       "    <tr>\n",
       "      <th>2</th>\n",
       "      <td>28534</td>\n",
       "      <td>31</td>\n",
       "      <td>11</td>\n",
       "      <td>1</td>\n",
       "      <td>1009</td>\n",
       "      <td>2274</td>\n",
       "      <td>4</td>\n",
       "    </tr>\n",
       "    <tr>\n",
       "      <th>3</th>\n",
       "      <td>1316715</td>\n",
       "      <td>2284</td>\n",
       "      <td>250</td>\n",
       "      <td>274</td>\n",
       "      <td>116</td>\n",
       "      <td>595</td>\n",
       "      <td>7</td>\n",
       "    </tr>\n",
       "    <tr>\n",
       "      <th>4</th>\n",
       "      <td>1893173</td>\n",
       "      <td>2519</td>\n",
       "      <td>225</td>\n",
       "      <td>116</td>\n",
       "      <td>1892</td>\n",
       "      <td>188</td>\n",
       "      <td>2</td>\n",
       "    </tr>\n",
       "  </tbody>\n",
       "</table>\n",
       "</div>"
      ],
      "text/plain": [
       "     views  likes  dislikes  comment  published  duration  category\n",
       "0   440238   6153       218     1377       2053       449         2\n",
       "1  1040132   8171       340     1047       1825       389         6\n",
       "2    28534     31        11        1       1009      2274         4\n",
       "3  1316715   2284       250      274        116       595         7\n",
       "4  1893173   2519       225      116       1892       188         2"
      ]
     },
     "execution_count": 114,
     "metadata": {},
     "output_type": "execute_result"
    }
   ],
   "source": [
    "import datetime\n",
    "import time\n",
    "def checki(x):\n",
    "    y = x[2:]\n",
    "    h = ''\n",
    "    m = ''\n",
    "    s = ''\n",
    "    mm = ''\n",
    "    P = ['H','M','S']\n",
    "    for i in y:\n",
    "        if i not in P:\n",
    "            mm+=i\n",
    "        else:\n",
    "            if i==\"H\":\n",
    "                h=mm\n",
    "                mm=''\n",
    "            elif i==\"M\":\n",
    "                m=mm\n",
    "                mm=''\n",
    "            else:\n",
    "                s=mm\n",
    "                mm=''\n",
    "    if h=='':\n",
    "        h='00'\n",
    "    if s=='':\n",
    "        s='00'\n",
    "    if m=='':\n",
    "        m='00'\n",
    "    bp=h+':'+m+':'+s\n",
    "    return bp\n",
    "train=pd.read_csv(r\"D:\\test.csv\")\n",
    "mp = train[\"duration\"]\n",
    "time = mp.apply(checki)\n",
    "def func_sec(time_string):\n",
    "    h, m, s = time_string.split(':')\n",
    "    return int(h) * 3600 + int(m) * 60 + int(s)\n",
    "time1=time.apply(func_sec)\n",
    "dsttest[\"duration\"]=time1\n",
    "dsttest=dsttest.drop([\"vidid\"],axis=1)\n",
    "dsttest.head()"
   ]
  },
  {
   "cell_type": "code",
   "execution_count": 115,
   "metadata": {},
   "outputs": [],
   "source": [
    "from sklearn.preprocessing import MinMaxScaler\n",
    "scaler = MinMaxScaler()\n",
    "X_test2=scaler.fit_transform(dsttest)"
   ]
  },
  {
   "cell_type": "code",
   "execution_count": 119,
   "metadata": {
    "scrolled": true
   },
   "outputs": [],
   "source": [
    "y_pred_new=random_forest.predict(X_test2)"
   ]
  },
  {
   "cell_type": "code",
   "execution_count": 120,
   "metadata": {},
   "outputs": [
    {
     "name": "stdout",
     "output_type": "stream",
     "text": [
      "[ 162.78048058 1813.59007754   21.20055742 ... 1610.10443537   16.23323637\n",
      "  237.18273606]\n"
     ]
    }
   ],
   "source": [
    "print(y_pred_new)"
   ]
  },
  {
   "cell_type": "code",
   "execution_count": 122,
   "metadata": {
    "scrolled": true
   },
   "outputs": [],
   "source": [
    "prediction = pd.DataFrame(y_pred_new, columns=['y_pred_new']).to_csv('Predictions_Submission.csv')"
   ]
  },
  {
   "cell_type": "code",
   "execution_count": null,
   "metadata": {},
   "outputs": [],
   "source": []
  }
 ],
 "metadata": {
  "kernelspec": {
   "display_name": "Python 3",
   "language": "python",
   "name": "python3"
  },
  "language_info": {
   "codemirror_mode": {
    "name": "ipython",
    "version": 3
   },
   "file_extension": ".py",
   "mimetype": "text/x-python",
   "name": "python",
   "nbconvert_exporter": "python",
   "pygments_lexer": "ipython3",
   "version": "3.8.3"
  }
 },
 "nbformat": 4,
 "nbformat_minor": 4
}
